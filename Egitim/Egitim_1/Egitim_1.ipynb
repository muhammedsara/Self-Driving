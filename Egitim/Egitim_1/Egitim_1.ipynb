{
 "cells": [
  {
   "cell_type": "markdown",
   "metadata": {},
   "source": [
    "# FourPlusOne Ekibi 1.Calisma\n",
    "\n",
    "### Yapılması istenenler\n",
    "\n",
    "* İlk olarak README.txt okuyunuz.\n",
    "* Sanal makineye ubuntu 16.04 kurulması gerekmektedir.\n",
    "* Ubuntu için \"Anaconda\" nın araştırılıp kurulması gerekmektedir. ( Python 2.7 sürümü)\n",
    "* Anaconda env oluşturulması\n",
    "    - conda create -n tensorflow2.7 python=2.7    -->\"Env oluşturmak için bu komutu kullacanağız.\"\n",
    "   \n",
    "* Kurulacak Kütüphaneler\n",
    "    - source activate tensorflow2.7    -->\"Env oluşturduktan sonra bu komutla env yi aktifleştirmemiz gerekiyor. Biz her zaman bu env ile çalıştıracağımız için bu adım sürekli kullanılacak.\"\n",
    "    - conda install -c anaconda jupyter \n",
    "    - conda install -c menpo opencv3 \n",
    "    - conda install -c conda-forge matplotlib\n",
    "    \n",
    "* Kurulum işlemleri tamamlandıktan sonra env'ı aktifleştirip \"jupyter notebook\" yazıp jupyteri açıyoruz."
   ]
  },
  {
   "cell_type": "code",
   "execution_count": 7,
   "metadata": {},
   "outputs": [
    {
     "name": "stdout",
     "output_type": "stream",
     "text": [
      "3.2.0\n"
     ]
    }
   ],
   "source": [
    "import cv2\n",
    "print (cv2.__version__)"
   ]
  },
  {
   "cell_type": "code",
   "execution_count": 6,
   "metadata": {},
   "outputs": [
    {
     "name": "stdout",
     "output_type": "stream",
     "text": [
      "1.13.3\n"
     ]
    }
   ],
   "source": [
    "import matplotlib.pylab as plt\n",
    "print (plt.__version__)"
   ]
  },
  {
   "cell_type": "markdown",
   "metadata": {},
   "source": [
    "Buraya kadar işlemleri tamamladıysak size verdiğimiz ZED kamera ile çekilmiş resmi (376x1344 boyutunda)\n",
    "* sağ sol olarak ayırmanız \n",
    "* sol resmi gri tona çevirmeniz\n",
    "* gri resmin sol üst köşesine adınızı yazmanız\n",
    "* resmin en son halini kaydetmeniz istenmektedir\n",
    "* \n",
    "* img_path = '/00001.jpg' resmi bu şekilde direk yolunu vererek açın. (open file dialog kullanmayın)\n",
    "* img_save_path = '/00001_gray.jpg' bu şekide direk kayıt edin. (open file dialog kullanmayın)\n",
    "* Bu işlemlerden sonra çalışma klasörünün adını öğrenci numaranız yaparak zip haline getirin.\n",
    "* Zipi fourplusone.kou@gmail.com adresine mail atın."
   ]
  },
  {
   "cell_type": "code",
   "execution_count": null,
   "metadata": {
    "collapsed": true
   },
   "outputs": [],
   "source": []
  }
 ],
 "metadata": {
  "kernelspec": {
   "display_name": "Python 2",
   "language": "python",
   "name": "python2"
  },
  "language_info": {
   "codemirror_mode": {
    "name": "ipython",
    "version": 2
   },
   "file_extension": ".py",
   "mimetype": "text/x-python",
   "name": "python",
   "nbconvert_exporter": "python",
   "pygments_lexer": "ipython2",
   "version": "2.7.14"
  }
 },
 "nbformat": 4,
 "nbformat_minor": 2
}
